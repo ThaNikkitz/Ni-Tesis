{
 "cells": [
  {
   "cell_type": "code",
   "execution_count": 230,
   "metadata": {},
   "outputs": [],
   "source": [
    "import numpy\n",
    "import scipy.linalg as sl\n",
    "from numba import jit"
   ]
  },
  {
   "cell_type": "code",
   "execution_count": 231,
   "metadata": {},
   "outputs": [],
   "source": [
    "#Input para el programa\n",
    "\n",
    "N = 12\n",
    "L = 5\n",
    "X = numpy.array([0, 2, 4, 6, 6, 6, 6, 4, 2, 0, 0, 0, 0])\n",
    "Y = numpy.array([0, 0, 0, 0, 2, 4, 6, 6, 6, 6, 4, 2, 0])\n",
    "KODE = numpy.array([1, 1, 1, 0, 0 ,0, 1, 1, 1, 0, 0, 0])\n",
    "FI = numpy.array([0, 0, 0, 0, 0, 0, 0, 0, 0, 300, 300, 300])\n",
    "CX = numpy.array([2, 2, 3, 4, 4])\n",
    "CY = numpy.array([2, 4, 3, 2, 4])"
   ]
  },
  {
   "cell_type": "code",
   "execution_count": 232,
   "metadata": {},
   "outputs": [],
   "source": [
    "# Simil de la función GHMATPC\n",
    "\n",
    "def GHMATPC(X, Y, FI, KODE, NX):\n",
    "    G = numpy.zeros((NX, NX))\n",
    "    H = numpy.zeros((NX, NX))\n",
    "    XM = numpy.zeros(NX)\n",
    "    YM = numpy.zeros(NX)\n",
    "    DFI = numpy.zeros(NX)\n",
    "    \n",
    "    XM[-1] = (X[-1] + X[-2])/2\n",
    "    YM[-1] = (Y[-1] + Y[-2])/2\n",
    "    XM[:-1] = (X[1:-1] + X[:-2])/2\n",
    "    YM[:-1] = (Y[1:-1] + Y[:-2])/2\n",
    "    \n",
    "    for i in range(N):\n",
    "        for j in range(N):\n",
    "            if i-j < 0 or i-j > 0:\n",
    "                G[i,j] = EXTINPC(XM[i], YM[i], X[j], Y[j], X[j+1], Y[j+1], H[i,j], G[i,j], 0, N)[4]\n",
    "                H[i,j] = EXTINPC(XM[i], YM[i], X[j], Y[j], X[j+1], Y[j+1], H[i,j], G[i,j], 0, N)[-1]\n",
    "            elif i-j == 0:\n",
    "                G[i,j] = LOCINPC(X[j], Y[j], X[j+1], Y[j+1], G[i,j])\n",
    "                H[i,j] = numpy.pi\n",
    "                \n",
    "    for j in range(N):\n",
    "        if KODE[j] > 0:\n",
    "            for i in range(N):\n",
    "                CH = G[i,j]\n",
    "                G[i,j] = -H[i,j]\n",
    "                H[i,j] = -CH\n",
    "    for i in range(N):\n",
    "        for j in range(N):\n",
    "            DFI[i] = DFI[i] + H[i,j]*FI[j]\n",
    "    return G, DFI, XM, YM"
   ]
  },
  {
   "cell_type": "code",
   "execution_count": 233,
   "metadata": {},
   "outputs": [],
   "source": [
    "def EXTINPC(XP, YP, X1, Y1, X2, Y2, H, G, K, NX):\n",
    "    GI = numpy.array([0.86113631, -0.86113631, 0.33998104, -0.33998104])\n",
    "    OME = numpy.array([0.34785485, 0.34785485, 0.65214515, 0.65214515])\n",
    "    XCO = numpy.zeros(4)\n",
    "    YCO = numpy.zeros(4)\n",
    "    \n",
    "    AX = (X2 - X1)/2\n",
    "    BX = (X2 + X1)/2\n",
    "    AY = (Y2 - Y1)/2\n",
    "    BY = (Y2 + Y1)/2\n",
    "    SL = numpy.sqrt(AX**2 + AY**2)\n",
    "    ETA_1 = AY/SL\n",
    "    ETA_2 = -AX/SL\n",
    "    G = 0\n",
    "    H = 0\n",
    "    DU1 = 0\n",
    "    DU2 = 0\n",
    "    DQ1 = 0\n",
    "    DQ2 = 0\n",
    "    \n",
    "    for i in range(4):\n",
    "        XCO[i] = AX*GI[i] + BX\n",
    "        YCO[i] = AY*GI[i] + BY\n",
    "        RA = numpy.sqrt((XP - XCO[i])**2 + (YP - YCO[i])**2)\n",
    "        RD1 = (XCO[i] - XP)/RA\n",
    "        RD2 = (YCO[i] - YP)/RA\n",
    "        RDN = RD1*ETA_1 + RD2*ETA_2\n",
    "        if K <= 0:\n",
    "            G = G + numpy.log(1/RA)*OME[i]*SL\n",
    "            H = H - RDN*OME[i]*SL/RA\n",
    "        else:\n",
    "            DU1 = DU1 + RD1*OME[i]*SL/RA            \n",
    "            DU2 = DU2 + RD2*OME[i]*SL/RA\n",
    "            DQ1 = DQ1 - ((2*RD1**2 - 1)*ETA_1 + 2*RD1*RD2*ETA_2)*OME[i]*SL/RA**2\n",
    "            DQ2 = DQ2 - ((2*RD2**2 - 1)*ETA_2 + 2*RD1*RD2*ETA_1)*OME[i]*SL/RA**2\n",
    "            G = G + numpy.log(1/RA)*OME[i]*SL\n",
    "            H = H - RDN*OME[i]*SL/RA\n",
    "    return DU1, DU2, DQ1, DQ2, G, H"
   ]
  },
  {
   "cell_type": "code",
   "execution_count": 234,
   "metadata": {},
   "outputs": [],
   "source": [
    "def LOCINPC(X1, Y1, X2, Y2, G):\n",
    "    AX = (X2 - X1)/2\n",
    "    AY = (Y2 - Y1)/2\n",
    "    SR = numpy.sqrt(AX**2 + AY**2)\n",
    "    G = 2*SR*(1 - numpy.log(SR))\n",
    "    return G"
   ]
  },
  {
   "cell_type": "code",
   "execution_count": 235,
   "metadata": {},
   "outputs": [],
   "source": [
    "def SLNPD(A, DFI):\n",
    "    MAT_F = sl.solve(A, DFI)\n",
    "    return MAT_F"
   ]
  },
  {
   "cell_type": "code",
   "execution_count": 236,
   "metadata": {},
   "outputs": [],
   "source": [
    "def INTERPC(FI, DFI, KODE, CX, CY, X, Y, N, L):\n",
    "    POT = numpy.zeros(L)\n",
    "    FLUX1 = numpy.zeros(L)\n",
    "    FLUX2 = numpy.zeros(L)\n",
    "    A = 0\n",
    "    B = 0\n",
    "    \n",
    "    for i in range(N):\n",
    "        if KODE[i] > 0:\n",
    "            dummy = FI[i]\n",
    "            FI[i] = DFI[i]\n",
    "            DFI[i] = dummy\n",
    "    \n",
    "    for i in range(L):\n",
    "        for j in range(N):\n",
    "            DU1, DU2, DQ1, DQ2, A, B = EXTINPC(CX[i], CY[i], X[j], Y[j], X[j+1], Y[j+1], A, B, 1, N)\n",
    "            POT[i] = POT[i] + DFI[j]*B - FI[j]*A\n",
    "            FLUX1[i] = FLUX1[i] + DFI[j]*DU1 - FI[j]*DQ1\n",
    "            FLUX2[i] = FLUX2[i] + DFI[j]*DU2 - FI[j]*DQ2\n",
    "        POT[i] = POT[i]/(2*numpy.pi)\n",
    "        FLUX1[i] = FLUX1[i]/(2*numpy.pi)\n",
    "        FLUX2[i] = FLUX2[i]/(2*numpy.pi)\n",
    "    return POT, FLUX1, FLUX2, FI, DFI  \n",
    "\n"
   ]
  },
  {
   "cell_type": "code",
   "execution_count": 237,
   "metadata": {},
   "outputs": [],
   "source": [
    "Mat_A, Mat_DFI = GHMATPC(X, Y, FI, KODE, N)[0:2]"
   ]
  },
  {
   "cell_type": "code",
   "execution_count": 238,
   "metadata": {},
   "outputs": [
    {
     "name": "stdout",
     "output_type": "stream",
     "text": [
      "[[-3.14159265 -0.         -0.         -3.26982772 -3.53102113 -3.912063\n",
      "   0.23109067  0.29849893  0.33029735 -3.24615704 -2.27565757 -0.71663841]\n",
      " [-0.         -3.14159265 -0.         -2.32895707 -2.89068015 -3.52179632\n",
      "   0.29849893  0.33029735  0.29849893 -3.52179632 -2.89068015 -2.32895707]\n",
      " [-0.         -0.         -3.14159265 -0.71663841 -2.27565757 -3.24615704\n",
      "   0.33029735  0.29849893  0.23109067 -3.912063   -3.53102113 -3.26982772]\n",
      " [ 0.07982998  0.2186689   1.10673998  2.         -1.2958461  -2.75135272\n",
      "   0.38050638  0.29423456  0.20131711 -3.95373493 -3.69552837 -3.59270204]\n",
      " [ 0.1798535   0.33929259  0.58800289 -1.2958461   2.         -1.2958461\n",
      "   0.58800289  0.33929259  0.1798535  -3.69552837 -3.59270204 -3.69552837]\n",
      " [ 0.20131711  0.29423456  0.38050638 -2.75135272 -1.2958461   2.\n",
      "   1.10673998  0.2186689   0.07982998 -3.59270204 -3.69552837 -3.95373493]\n",
      " [ 0.23109067  0.29849893  0.33029735 -3.24615704 -2.27565757 -0.71663841\n",
      "  -3.14159265 -0.         -0.         -3.26982772 -3.53102113 -3.912063  ]\n",
      " [ 0.29849893  0.33029735  0.29849893 -3.52179632 -2.89068015 -2.32895707\n",
      "  -0.         -3.14159265 -0.         -2.32895707 -2.89068015 -3.52179632]\n",
      " [ 0.33029735  0.29849893  0.23109067 -3.912063   -3.53102113 -3.26982772\n",
      "  -0.         -0.         -3.14159265 -0.71663841 -2.27565757 -3.24615704]\n",
      " [ 0.38050638  0.29423456  0.20131711 -3.95373493 -3.69552837 -3.59270204\n",
      "   0.07982998  0.2186689   1.10673998  2.         -1.2958461  -2.75135272]\n",
      " [ 0.58800289  0.33929259  0.1798535  -3.69552837 -3.59270204 -3.69552837\n",
      "   0.1798535   0.33929259  0.58800289 -1.2958461   2.         -1.2958461 ]\n",
      " [ 1.10673998  0.2186689   0.07982998 -3.59270204 -3.69552837 -3.95373493\n",
      "   0.20131711  0.29423456  0.38050638 -2.75135272 -1.2958461   2.        ]]\n"
     ]
    }
   ],
   "source": [
    "print(Mat_A)"
   ]
  },
  {
   "cell_type": "code",
   "execution_count": 239,
   "metadata": {},
   "outputs": [],
   "source": [
    "Mat_F = SLNPD(Mat_A, Mat_DFI)"
   ]
  },
  {
   "cell_type": "code",
   "execution_count": 240,
   "metadata": {},
   "outputs": [
    {
     "data": {
      "text/plain": [
       "(array([605.56658197, 605.56658197, 704.25534769, 804.12905041,\n",
       "        804.12905041]),\n",
       " array([-50.31933242, -50.31933242, -50.23597082, -50.3315676 ,\n",
       "        -50.3315676 ]),\n",
       " array([-0.15232055,  0.15232055,  0.        ,  0.16102336, -0.16102336]),\n",
       " array([252, 150,  47,   0,   0,   0,  47, 150, 252, 300, 300, 300]),\n",
       " array([  0.        ,   0.        ,   0.        , -52.96155396,\n",
       "        -48.77100512, -52.96155396,   0.        ,   0.        ,\n",
       "          0.        ,  52.9694403 ,  48.73693018,  52.9694403 ]))"
      ]
     },
     "execution_count": 240,
     "metadata": {},
     "output_type": "execute_result"
    }
   ],
   "source": [
    "INTERPC(FI, Mat_F, KODE, CX, CY, X, Y, N, L)"
   ]
  },
  {
   "cell_type": "code",
   "execution_count": 241,
   "metadata": {},
   "outputs": [
    {
     "data": {
      "text/plain": [
       "array([  0.        ,   0.        ,   0.        , -52.96155396,\n",
       "       -48.77100512, -52.96155396,   0.        ,   0.        ,\n",
       "         0.        ,  52.9694403 ,  48.73693018,  52.9694403 ])"
      ]
     },
     "execution_count": 241,
     "metadata": {},
     "output_type": "execute_result"
    }
   ],
   "source": [
    "Mat_F"
   ]
  },
  {
   "cell_type": "code",
   "execution_count": null,
   "metadata": {},
   "outputs": [],
   "source": []
  }
 ],
 "metadata": {
  "kernelspec": {
   "display_name": "Python 3",
   "language": "python",
   "name": "python3"
  },
  "language_info": {
   "codemirror_mode": {
    "name": "ipython",
    "version": 3
   },
   "file_extension": ".py",
   "mimetype": "text/x-python",
   "name": "python",
   "nbconvert_exporter": "python",
   "pygments_lexer": "ipython3",
   "version": "3.7.0"
  }
 },
 "nbformat": 4,
 "nbformat_minor": 2
}
