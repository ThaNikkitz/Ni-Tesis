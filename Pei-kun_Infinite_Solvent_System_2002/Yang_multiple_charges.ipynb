{
 "cells": [
  {
   "cell_type": "code",
   "execution_count": 48,
   "metadata": {
    "collapsed": true
   },
   "outputs": [],
   "source": [
    "import numpy\n",
    "import timeit\n",
    "import numpy.matlib\n",
    "from numba import jit\n",
    "from matplotlib import pyplot as plt\n",
    "%matplotlib inline"
   ]
  },
  {
   "cell_type": "code",
   "execution_count": 134,
   "metadata": {},
   "outputs": [],
   "source": [
    "n_charges = 4 #numero de cargas a ubicar\n",
    "q = numpy.ones(n_charges)\n",
    "epsilon_m = 2\n",
    "epsilon_w = 80\n",
    "c_pos = numpy.array([(0.25,0,0),(0.5,0,0),(0.75,0,0),(2,0,0)])#,(1,0,0),(1.25,0,0),(1.5,0,0),(1.75,0,0)])\n",
    "# la dimension de c_pos debe ser igual a n_cargas\n",
    "a_1 = -2\n",
    "a_2 = 2\n",
    "a = a_2 - a_1\n",
    "\n",
    "e_pos = (2,0,0)"
   ]
  },
  {
   "cell_type": "markdown",
   "metadata": {},
   "source": [
    "$\\large \\phi_{(\\vec{x}_i)} = \\sum\\limits_{\\substack{j=1 \\\\ j\\neq i}}^N \\frac{Q_j}{4\\pi\\epsilon_m|{\\vec{x}_i - \\vec{x}_j}|} + \\sum\\limits_{j=1}^N\\quad\\sum\\limits_{\\substack{l = -\\infty \\\\ l\\neq 0}}^\\infty \\frac{Q_{j,l}}{4\\pi\\epsilon_m|\\vec{x}_i - \\vec{x}_{j,l}|}$\n",
    "\n",
    "\n",
    "$\\vec{x}_i$ es la posición de evaluación del potencial."
   ]
  },
  {
   "cell_type": "code",
   "execution_count": 226,
   "metadata": {},
   "outputs": [],
   "source": [
    "@jit\n",
    "def sumatoria_1(epsilon_m, epsilon_w, charges, charge_pos, evaluation_pos, N):\n",
    "    eval_pos = numpy.matlib.repmat(evaluation_pos, N, 1)\n",
    "    for i in range(N):\n",
    "        if (eval_pos[i] == charge_pos[i]).all():\n",
    "            eval_pos = numpy.delete(eval_pos,i,0)\n",
    "            charge_pos = numpy.delete(charge_pos,i,0)\n",
    "            charges = numpy.delete(charges,i)\n",
    "    return sum(charges[:]/(4*numpy.pi*epsilon_m*numpy.linalg.norm(eval_pos[:] - charge_pos[:], axis=1)))"
   ]
  },
  {
   "cell_type": "code",
   "execution_count": 338,
   "metadata": {},
   "outputs": [],
   "source": [
    "@jit\n",
    "def sumatoria_2(H, neg_infty, infty, epsilon_m, epsilon_w, charges, charge_pos, evaluation_pos, N):\n",
    "    n = abs(neg_infty) + infty + 1\n",
    "    ev_pos = numpy.matlib.repmat(evaluation_pos,N,1)\n",
    "    Q_ij = numpy.empty((N,n), dtype = object)\n",
    "    x_ij = numpy.empty((N,n), dtype = object)\n",
    "    for m in range(neg_infty, infty + 1):\n",
    "        for l in range(N):\n",
    "            Q_ij[l,m + abs(neg_infty)] = charges[l]*((epsilon_m - epsilon_w)/(epsilon_m + epsilon_w))**numpy.abs(m)\n",
    "            x_ij[l,m + abs(neg_infty)] = ((-1)**m)*charge_pos[l] + numpy.array([m*H,charge_pos[l][1],charge_pos[l][2]])\n",
    "    print(ev_pos[:,1])\n",
    "    print(x_ij[:,1])\n",
    "            #     return sum((Q_ij[:,:]/(4*numpy.pi*epsilon_m*numpy.linalg.norm(ev_pos - x_ij, axis=1))))"
   ]
  },
  {
   "cell_type": "code",
   "execution_count": 339,
   "metadata": {},
   "outputs": [
    {
     "name": "stdout",
     "output_type": "stream",
     "text": [
      "[0 0 0 0]\n",
      "[array([-196.25,    0.  ,    0.  ]) array([-196.5,    0. ,    0. ])\n",
      " array([-196.75,    0.  ,    0.  ]) array([-198.,    0.,    0.])]\n"
     ]
    }
   ],
   "source": [
    "sumatoria_2(a,-50,50,2,80,q,c_pos,e_pos,n_charges)"
   ]
  },
  {
   "cell_type": "code",
   "execution_count": null,
   "metadata": {
    "collapsed": true
   },
   "outputs": [],
   "source": []
  }
 ],
 "metadata": {
  "kernelspec": {
   "display_name": "Python 3",
   "language": "python",
   "name": "python3"
  },
  "language_info": {
   "codemirror_mode": {
    "name": "ipython",
    "version": 3
   },
   "file_extension": ".py",
   "mimetype": "text/x-python",
   "name": "python",
   "nbconvert_exporter": "python",
   "pygments_lexer": "ipython3",
   "version": "3.6.2"
  }
 },
 "nbformat": 4,
 "nbformat_minor": 2
}
