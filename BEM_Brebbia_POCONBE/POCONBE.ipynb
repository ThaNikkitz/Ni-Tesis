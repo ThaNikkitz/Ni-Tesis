{
 "cells": [
  {
   "cell_type": "code",
   "execution_count": 2,
   "metadata": {},
   "outputs": [],
   "source": [
    "import numpy\n",
    "import scipy\n",
    "from numba import jit"
   ]
  },
  {
   "cell_type": "markdown",
   "metadata": {},
   "source": [
    "#Input para el programa\n",
    "\n",
    "HEAT FLOW EXAMPLE (12 CONSTANT ELEMENTS)\n",
    "12 5\n",
    "0. 0. 2. 0. 4. 0. 6. 0. 6. 2. 6. 4.\n",
    "6. 6. 4. 6. 2. 6. 0. 6. 0. 4. 0. 2.\n",
    "1 0\n",
    "1 0\n",
    "1 0\n",
    "0 0\n",
    "0 0\n",
    "0 0\n",
    "1 0\n",
    "1 0\n",
    "1 0\n",
    "0 300\n",
    "0 300\n",
    "0 300\n",
    "2. 2. 2. 4. 3. 3. 4. 2. 4. 4."
   ]
  },
  {
   "cell_type": "code",
   "execution_count": 5,
   "metadata": {},
   "outputs": [],
   "source": [
    "# Variables y arreglos a trabajar\n",
    "\n",
    "x = numpy.arange(0,100,1)"
   ]
  },
  {
   "cell_type": "code",
   "execution_count": null,
   "metadata": {},
   "outputs": [],
   "source": [
    "# Simil de la función GHMATPC\n",
    "\n",
    "def GHMATPC(CX, CY, X, Y, KODE, FI, N, L):\n",
    "    "
   ]
  },
  {
   "cell_type": "code",
   "execution_count": null,
   "metadata": {},
   "outputs": [],
   "source": [
    "def EXTINPC():\n",
    "    AX = (X2 - X1)/2\n",
    "    BX = (X2 + X1)/2\n",
    "    AY = (Y2 - Y1)/2\n",
    "    BY = (Y2 + Y1)/2\n",
    "    SL = numpy.sqrt(AX**2 + AY**2)\n",
    "    ETA_1 = AY/SL\n",
    "    ETA_2 = -AX/SL\n",
    "    G = 0\n",
    "    H = 0\n",
    "    DU1 = 0\n",
    "    DU2 = 0\n",
    "    DQ1 = 0\n",
    "    DQ2 = 0\n",
    "    \n",
    "    for i in range(3):\n",
    "        XCO[i] = AX*GI[i] + BX\n",
    "        YCO[i] = AY*GI[i] + BY\n",
    "        RA = numpy.sqrt((XP - XCO[i])**2 + (YP - YCO[i])**2)\n",
    "        RD1 = (XCO[i] - XP)/RA\n",
    "        RD2 = (YCO[i] - YP)/RA\n",
    "        RDN = RD1*ETA1 + RD2*ETA2\n",
    "        if K=<0:\n",
    "            G = G + numpy.log(1/RA)*OME(i)*SL\n",
    "        else:\n",
    "            DU1 = DU1 + RD1*OME(i)*SL/RA\n",
    "            \n",
    "        DU2 = DU2 + RD2*OME(i)*SL/RA\n",
    "        DQ1 = DQ1 - ((2*RD1**2 - 1)*ETA_1 + 2*RD1*RD2*ETA_2)*OME(i)*SL/RA**2\n",
    "        DQ2 = DQ2 - ((2*RD2**2 - 1)*ETA_2 + 2*RD1*RD2*ETA_1)*OME(i)*SL/RA**2\n",
    "        \n",
    "            \n"
   ]
  },
  {
   "cell_type": "code",
   "execution_count": null,
   "metadata": {},
   "outputs": [],
   "source": []
  },
  {
   "cell_type": "code",
   "execution_count": null,
   "metadata": {},
   "outputs": [],
   "source": []
  },
  {
   "cell_type": "code",
   "execution_count": null,
   "metadata": {},
   "outputs": [],
   "source": []
  },
  {
   "cell_type": "code",
   "execution_count": null,
   "metadata": {},
   "outputs": [],
   "source": []
  }
 ],
 "metadata": {
  "kernelspec": {
   "display_name": "Python 3",
   "language": "python",
   "name": "python3"
  },
  "language_info": {
   "codemirror_mode": {
    "name": "ipython",
    "version": 3
   },
   "file_extension": ".py",
   "mimetype": "text/x-python",
   "name": "python",
   "nbconvert_exporter": "python",
   "pygments_lexer": "ipython3",
   "version": "3.7.0"
  }
 },
 "nbformat": 4,
 "nbformat_minor": 2
}
