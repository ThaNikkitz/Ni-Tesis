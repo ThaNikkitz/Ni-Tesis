{
 "cells": [
  {
   "cell_type": "code",
   "execution_count": null,
   "metadata": {
    "collapsed": true
   },
   "outputs": [],
   "source": [
    "import numpy\n",
    "import timeit\n",
    "import numpy.matlib\n",
    "from numba import jit\n",
    "from matplotlib import pyplot as plt\n",
    "%matplotlib inline\n"
   ]
  },
  {
   "cell_type": "code",
   "execution_count": null,
   "metadata": {
    "collapsed": true
   },
   "outputs": [],
   "source": [
    "q = numpy.array(1,1,1,1,1,1,1)\n",
    "epsilon_a = 2\n",
    "epsilon_w = 80\n",
    "c_pos = numpy.array((0.25,0,0),(0.5,0,0),(0.75,0,0),(1,0,0),(1.25,0,0),(1.5,0,0),(1.75,0,0))\n",
    "a_1 = -2\n",
    "a_2 = 2\n",
    "a = a_2 - a_1\n",
    "\n",
    "e_pos = (1,0,0)"
   ]
  },
  {
   "cell_type": "markdown",
   "metadata": {},
   "source": [
    "$\\large \\phi_{(\\vec{x})} = \\sum\\limits_{j=1, j\\neq i}^N \\frac{Q_j}{4\\pi\\epsilon_a|{\\vec{x}_i - \\vec{x}_j}|} + \\sum\\limits_{j=1}^N\\quad\\sum\\limits_{l = -\\infty, l\\neq 0}^\\infty \\frac{Q_{j,l}}{4\\pi\\epsilon_a|\\vec{x}_i - \\vec{x}_{j,l}|}$"
   ]
  },
  {
   "cell_type": "code",
   "execution_count": null,
   "metadata": {
    "collapsed": true
   },
   "outputs": [],
   "source": [
    "def phi(neg_infty, infty, epsilon_a, epsilon_w, charges, charge_pos, evaluation_pos):\n",
    "#     neg_infty debe incluir el signo (-)\n",
    "    N = len(charges)\n",
    "    n = infty - neg_infty + 1\n",
    "    Q_jl = numpy.empty(N, dtype = object)\n",
    "    x_jl = numpy.empty(N, dtype = object)\n",
    "    for i in range(len(q)):\n",
    "        "
   ]
  }
 ],
 "metadata": {
  "kernelspec": {
   "display_name": "Python 3",
   "language": "python",
   "name": "python3"
  },
  "language_info": {
   "codemirror_mode": {
    "name": "ipython",
    "version": 3
   },
   "file_extension": ".py",
   "mimetype": "text/x-python",
   "name": "python",
   "nbconvert_exporter": "python",
   "pygments_lexer": "ipython3",
   "version": "3.6.2"
  }
 },
 "nbformat": 4,
 "nbformat_minor": 2
}
