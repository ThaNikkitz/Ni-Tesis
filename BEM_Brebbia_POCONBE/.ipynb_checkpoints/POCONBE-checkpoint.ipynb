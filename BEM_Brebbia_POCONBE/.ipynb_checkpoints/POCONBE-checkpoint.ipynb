{
 "cells": [
  {
   "cell_type": "code",
   "execution_count": 5,
   "metadata": {},
   "outputs": [],
   "source": [
    "import numpy\n",
    "import scipy.linalg as sl\n",
    "from numba import jit"
   ]
  },
  {
   "cell_type": "markdown",
   "metadata": {},
   "source": [
    "#Input para el programa\n",
    "\n",
    "HEAT FLOW EXAMPLE (12 CONSTANT ELEMENTS)\n",
    "12 5\n",
    "0. 0. 2. 0. 4. 0. 6. 0. 6. 2. 6. 4.\n",
    "6. 6. 4. 6. 2. 6. 0. 6. 0. 4. 0. 2.\n",
    "1 0\n",
    "1 0\n",
    "1 0\n",
    "0 0\n",
    "0 0\n",
    "0 0\n",
    "1 0\n",
    "1 0\n",
    "1 0\n",
    "0 300\n",
    "0 300\n",
    "0 300\n",
    "2. 2. 2. 4. 3. 3. 4. 2. 4. 4."
   ]
  },
  {
   "cell_type": "code",
   "execution_count": 6,
   "metadata": {},
   "outputs": [],
   "source": [
    "# Variables y arreglos a trabajar\n",
    "\n",
    "N = 100\n",
    "\n",
    "X = numpy.arange(0,N)"
   ]
  },
  {
   "cell_type": "code",
   "execution_count": 7,
   "metadata": {},
   "outputs": [],
   "source": [
    "# Simil de la función GHMATPC\n",
    "\n",
    "def GHMATPC(X, Y, XM, YM, G, H, F1, DF1, KODE, NX):\n",
    "    X[-1] = X[0]\n",
    "    Y[-1] = Y[0]\n",
    "    \n",
    "    XM[-1] = (X[0] + X[-1])/2\n",
    "    YM[-1] = (Y[0] + Y[-1])/2\n",
    "    XM[:-1] = (X[1:] + X[:-1])/2\n",
    "    YM[:-1] = (Y[1:] + Y[:-1])/2\n",
    "    \n",
    "    for i in range(N):\n",
    "        for j in range(N):\n",
    "            if i-j < 0 or i-j > 0:\n",
    "                EXTINPC(XM[i], YM[i], X[j], Y[j], X[j+1], Y[j+1], H[i,j], G[i,j], 0)\n",
    "            elif i-j == 0:\n",
    "                LOCINPC(X[j], Y[j], X[j+1], Y[j+1], G[i,j])\n",
    "                H[i,j] = numpy.pi()\n",
    "                \n",
    "    for i in range(N):\n",
    "        if KODE[i] > 0:\n",
    "            for j in range(N):\n",
    "                CH = G[i,j]\n",
    "                G[i,j] = -H[i,j]\n",
    "                H[i,j] = -CH\n",
    "    for i in range(N):\n",
    "        DFI[i] = 0\n",
    "        for j in range(N):\n",
    "            DFI[i] = DFI[i] + H[i,j]*FI[j]\n",
    "    return G"
   ]
  },
  {
   "cell_type": "code",
   "execution_count": 8,
   "metadata": {},
   "outputs": [],
   "source": [
    "def EXTINPC(XP, YP, X1, Y1, X2, Y2, H, G, K):\n",
    "    GI = numpy.array([0.86113631, -0.86113631, 0.33998104, -0.33998104])\n",
    "    OME = numpy.array([0.34785485, 0.34785485, 0.65214515, 0.65214515])\n",
    "    AX = (X2 - X1)/2\n",
    "    BX = (X2 + X1)/2\n",
    "    AY = (Y2 - Y1)/2\n",
    "    BY = (Y2 + Y1)/2\n",
    "    SL = numpy.sqrt(AX**2 + AY**2)\n",
    "    ETA_1 = AY/SL\n",
    "    ETA_2 = -AX/SL\n",
    "    G = 0\n",
    "    H = 0\n",
    "    DU1 = 0\n",
    "    DU2 = 0\n",
    "    DQ1 = 0\n",
    "    DQ2 = 0\n",
    "    \n",
    "    for i in range(3):\n",
    "        XCO[i] = AX*GI[i] + BX\n",
    "        YCO[i] = AY*GI[i] + BY\n",
    "        RA = numpy.sqrt((XP - XCO[i])**2 + (YP - YCO[i])**2)\n",
    "        RD1 = (XCO[i] - XP)/RA\n",
    "        RD2 = (YCO[i] - YP)/RA\n",
    "        RDN = RD1*ETA1 + RD2*ETA2\n",
    "        if K <= 0:\n",
    "            G = G + numpy.log(1/RA)*OME[i]*SL\n",
    "        else:\n",
    "            DU1 = DU1 + RD1*OME[i]*SL/RA\n",
    "            \n",
    "        DU2 = DU2 + RD2*OME(i)*SL/RA\n",
    "        DQ1 = DQ1 - ((2*RD1**2 - 1)*ETA_1 + 2*RD1*RD2*ETA_2)*OME[i]*SL/RA**2\n",
    "        DQ2 = DQ2 - ((2*RD2**2 - 1)*ETA_2 + 2*RD1*RD2*ETA_1)*OME[i]*SL/RA**2\n",
    "        H = H - RDN*OME[i]*SL/RA\n",
    "    \n",
    "    return DU1, DU2, DQ1, DQ2, G, H"
   ]
  },
  {
   "cell_type": "code",
   "execution_count": 9,
   "metadata": {},
   "outputs": [],
   "source": [
    "def LOCINPC(X1, Y1, X2, Y2, G):\n",
    "    AX = (X2 - X1)/2\n",
    "    AY = (Y2 - Y1)/2\n",
    "    SR = SQRT(AX**2 + AY**2)\n",
    "    G = 2*SR*(1 - numpy.log(SR))\n",
    "    return G"
   ]
  },
  {
   "cell_type": "code",
   "execution_count": 10,
   "metadata": {},
   "outputs": [],
   "source": [
    "def SLNPD(A, DFI):\n",
    "    MAT_F = sl.solve(A, DFI)\n",
    "    return MAT_F"
   ]
  },
  {
   "cell_type": "code",
   "execution_count": 1,
   "metadata": {},
   "outputs": [
    {
     "ename": "SyntaxError",
     "evalue": "invalid syntax (<ipython-input-1-2ca5b35178b3>, line 14)",
     "output_type": "error",
     "traceback": [
      "\u001b[0;36m  File \u001b[0;32m\"<ipython-input-1-2ca5b35178b3>\"\u001b[0;36m, line \u001b[0;32m14\u001b[0m\n\u001b[0;31m    POT[i] = POT[i] + DFI[j]*B - FI]\u001b[0m\n\u001b[0m                                   ^\u001b[0m\n\u001b[0;31mSyntaxError\u001b[0m\u001b[0;31m:\u001b[0m invalid syntax\n"
     ]
    }
   ],
   "source": [
    "def INTERPC(FI, DFI, KODE, CX, CY, X, Y):\n",
    "    for i in range(N):\n",
    "        if KODE[i] > 0:\n",
    "            dummy = FI[i]\n",
    "            FI[i] = DFI[i]\n",
    "            DFI[i] = dummy\n",
    "    \n",
    "    for i in range(L):\n",
    "        POT[i] = 0\n",
    "        FLUX1[i] = 0\n",
    "        FLUX2[i] = 0\n",
    "        for j in range(N):\n",
    "            EXTINPC(CX[i], CY[i], X[i], Y[i], X[i+1], Y[i+1], A, B, 1)\n",
    "            POT[i] = POT[i] + DFI[j]*B - FI[j]*A\n",
    "            FLUX1[i] = FLUX1[i] + DFI[j]*DU1 - FI[j]*DQ1\n",
    "            FLUX2[i] = FLUX2[i] + DFI[j]*DU2 - FI[j]*DQ2\n",
    "        POT[i] = POT[i]/(2*numpy.pi())\n",
    "        FLUX1[i] = FLUX1[i]/(2*numpy.pi())\n",
    "        FLUX2[i] = FLUX2[i]/(2*numpy.pi())\n",
    "    return POT, FLUX1, FLUX2  \n",
    "\n"
   ]
  },
  {
   "cell_type": "code",
   "execution_count": null,
   "metadata": {},
   "outputs": [],
   "source": []
  }
 ],
 "metadata": {
  "kernelspec": {
   "display_name": "Python 3",
   "language": "python",
   "name": "python3"
  },
  "language_info": {
   "codemirror_mode": {
    "name": "ipython",
    "version": 3
   },
   "file_extension": ".py",
   "mimetype": "text/x-python",
   "name": "python",
   "nbconvert_exporter": "python",
   "pygments_lexer": "ipython3",
   "version": "3.7.0"
  }
 },
 "nbformat": 4,
 "nbformat_minor": 2
}
